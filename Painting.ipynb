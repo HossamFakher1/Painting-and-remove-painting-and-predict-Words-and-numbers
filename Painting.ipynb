{
 "cells": [
  {
   "cell_type": "code",
   "execution_count": null,
   "metadata": {},
   "outputs": [],
   "source": [
    "#painting , remove painting and predict words and numbers"
   ]
  },
  {
   "cell_type": "code",
   "execution_count": 1,
   "metadata": {},
   "outputs": [
    {
     "name": "stdout",
     "output_type": "stream",
     "text": [
      "Num GPUs Available:  1\n"
     ]
    },
    {
     "data": {
      "text/plain": [
       "[PhysicalDevice(name='/physical_device:GPU:0', device_type='GPU')]"
      ]
     },
     "execution_count": 1,
     "metadata": {},
     "output_type": "execute_result"
    }
   ],
   "source": [
    "import tensorflow as tf\n",
    "print(\"Num GPUs Available: \", len(tf.config.experimental.list_physical_devices('GPU')))\n",
    "tf.config.list_physical_devices('GPU')"
   ]
  },
  {
   "cell_type": "code",
   "execution_count": 2,
   "metadata": {},
   "outputs": [],
   "source": [
    "import numpy as np\n",
    "import cv2\n",
    "import mediapipe as mp\n",
    "import pytesseract as pyt\n",
    "import time\n",
    "mp_drawing = mp.solutions.drawing_utils\n",
    "hand = mp.solutions.hands\n",
    "mp_hands = mp.solutions.hands.Hands(False,1,0.7,0.5)\n",
    "pyt.pytesseract.tesseract_cmd=r\"C:\\Program Files\\Tesseract-OCR\\tesseract.exe\"\n",
    "\n",
    "fill=[]\n",
    "pTime=0\n",
    "paint=False\n",
    "remove=False\n",
    "word=False"
   ]
  },
  {
   "cell_type": "code",
   "execution_count": 3,
   "metadata": {},
   "outputs": [],
   "source": [
    "cap=cv2.VideoCapture(0)\n",
    "cap.set(3,1920)\n",
    "cap.set(4,1080)\n",
    "while True:\n",
    "    ret,frame=cap.read()\n",
    "    if ret==False :\n",
    "        break\n",
    "    rows, cols, _ = frame.shape\n",
    "    \n",
    "    frame = cv2.cvtColor(frame, cv2.COLOR_BGR2RGB)\n",
    "    results = mp_hands.process(frame)\n",
    "    \n",
    "    cv2.circle(frame,(225,25),20,(255,0,0),-1)\n",
    "    cv2.circle(frame,(425,25),20,(0,255,0),-1)\n",
    "    cv2.circle(frame,(625,25),20,(0,0,255),-1)\n",
    "            \n",
    "    if results.multi_hand_landmarks:\n",
    "        for hand_landmarks in results.multi_hand_landmarks:\n",
    "            mp_drawing.draw_landmarks( frame, hand_landmarks,hand.HAND_CONNECTIONS)\n",
    "            x = [ int(landmark.x * cols) for landmark in hand_landmarks.landmark]\n",
    "            y = [ int(landmark.y * rows) for landmark in hand_landmarks.landmark]\n",
    "            \n",
    "            if y[8] in [20,21,22,23,24,25,26,27,28,29,30] and x[8] in [220,221,222,223,224,225,226,227,228,229,230]:\n",
    "                paint=True\n",
    "                remove=False\n",
    "                word=False\n",
    "            \n",
    "            elif y[8] in [20,21,22,23,24,25,26,27,28,29,30] and x[8] in [420,421,422,423,424,425,426,427,428,429,430]:\n",
    "                paint=False\n",
    "                remove=True\n",
    "                word=False\n",
    "            \n",
    "            elif y[8] in [20,21,22,23,24,25,26,27,28,29,30] and x[8] in [620,621,622,623,624,625,626,627,628,629,630]:\n",
    "                paint=False\n",
    "                remove=False\n",
    "                word=True\n",
    "                \n",
    "            if paint and y[12] > y[8] :\n",
    "                fill.append([x[8],y[8]])\n",
    "                \n",
    "            elif remove and y[12] > y[8] :\n",
    "                fill1=fill.copy()\n",
    "                fill=[]\n",
    "                for a,s in fill1 : \n",
    "                    if a+7 >x[8]>a-7  and s+7>y[8]>s-7 :\n",
    "                        continue\n",
    "                    else :\n",
    "                        fill.append([a,s])\n",
    "\n",
    "            \n",
    "                \n",
    "    if word :\n",
    "        img=cv2.cvtColor(frame,cv2.COLOR_RGB2GRAY)\n",
    "        boxes=pyt.image_to_data(img,lang='eng')\n",
    "        for z,b in enumerate(boxes.splitlines()) :\n",
    "            if z!=0 :\n",
    "                b=b.split()\n",
    "                if len(b)==12 :\n",
    "                    fx,fy,fw,fh =int(b[6]),int(b[7]),int(b[8]),int(b[9])\n",
    "                    cv2.rectangle(frame,(fx,fy),(fx+fw,fy+fh),(0,255,0),2)\n",
    "                    cv2.putText(frame,b[11],(fx,fy),cv2.FONT_HERSHEY_COMPLEX,1,(255,0,0),3)\n",
    "            \n",
    "    frame = cv2.cvtColor(frame, cv2.COLOR_RGB2BGR)\n",
    "    \n",
    "    for x,y in fill :\n",
    "        cv2.circle(frame,(x,y),10,(0,0,255),-1)\n",
    "    \n",
    "\n",
    "    cTime=time.time()\n",
    "    fps=1/(cTime-pTime)\n",
    "    pTime=cTime\n",
    "    \n",
    "    cv2.imshow('MediaPipe Hands', frame)\n",
    "    if cv2.waitKey(10) & 0xFF == 27:\n",
    "      break\n",
    "cap.release()\n",
    "cv2.destroyAllWindows()"
   ]
  },
  {
   "cell_type": "code",
   "execution_count": null,
   "metadata": {},
   "outputs": [],
   "source": []
  }
 ],
 "metadata": {
  "kernelspec": {
   "display_name": "Python 3",
   "language": "python",
   "name": "python3"
  },
  "language_info": {
   "codemirror_mode": {
    "name": "ipython",
    "version": 3
   },
   "file_extension": ".py",
   "mimetype": "text/x-python",
   "name": "python",
   "nbconvert_exporter": "python",
   "pygments_lexer": "ipython3",
   "version": "3.8.5"
  }
 },
 "nbformat": 4,
 "nbformat_minor": 4
}
